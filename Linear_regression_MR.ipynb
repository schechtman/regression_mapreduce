{
 "cells": [
  {
   "cell_type": "markdown",
   "metadata": {},
   "source": [
    "article : https://arxiv.org/pdf/1307.0048.pdf"
   ]
  },
  {
   "cell_type": "code",
   "execution_count": 2,
   "metadata": {
    "collapsed": false
   },
   "outputs": [],
   "source": [
    "import numpy as np\n",
    "from numpy.random import multivariate_normal\n",
    "from scipy.linalg.special_matrices import toeplitz\n",
    "\n",
    "p = 10\n",
    "n = 100\n",
    "cov = toeplitz(0.5 ** np.arange(p))\n",
    "A = multivariate_normal(np.zeros(p), cov, 100)\n",
    "A_sc = sc.parallelize(A)"
   ]
  },
  {
   "cell_type": "markdown",
   "metadata": {},
   "source": [
    "# Algorithm 1\n",
    "\n",
    "TODO: Problème avec le calcul de covariance"
   ]
  },
  {
   "cell_type": "code",
   "execution_count": 59,
   "metadata": {
    "collapsed": false
   },
   "outputs": [],
   "source": [
    "def PenalizedLR_MR(Data, k, lambdas):\n",
    "    \"\"\"\n",
    "    Data: an RDD each rows of which is a tuple (x, y)\n",
    "    k: number of partitions for splitting\n",
    "    lambdas: list of lambdas to test on\n",
    "    \"\"\"\n",
    "    key = np.random.randint(k)\n",
    "    \n",
    "    def map_statistics(row):\n",
    "        #calculate statistics for one row\n",
    "        x, y = row\n",
    "        x = x.reshape((1, -1))\n",
    "        return (np.random.randint(k), [1, x, y, y**2, y * x, x.T.dot(x)])\n",
    "    \n",
    "    statistics = Data.map(map_statistics)\n",
    "    \n",
    "    def reduce_statistics(row1, row2):\n",
    "        s_1 = row1[0]\n",
    "        s_2 = row2[0]\n",
    "        mean_x = s_1 / (s_1 + s_2) * row1[1] + s_2 / (s_1 + s_2) * row2[1]\n",
    "        mean_y = s_1 / (s_1 + s_2) * row1[2] + s_2 / (s_1 + s_2) * row2[2]\n",
    "        cov = s_1 / (s_1 + s_2) * row1[5] + s_2 / (s_1 + s_2) * row2[5]  + s_1 * s_2 / (s_1 + s_2)**2 * (row1[1] - row2[1]).T.dot(row1[1] - row2[1])\n",
    "        emit = [s_1 + s_2, mean_x, mean_y, row1[3] + row2[3], row1[4] + row2[4], cov]\n",
    "        return emit\n",
    "    \n",
    "    statistics = statistics.reduceByKey(reduce_statistics)\n",
    "    return statistics"
   ]
  },
  {
   "cell_type": "code",
   "execution_count": 111,
   "metadata": {
    "collapsed": false
   },
   "outputs": [
    {
     "data": {
      "text/plain": [
       "[(array([1]), 1), (array([2]), 2)]"
      ]
     },
     "execution_count": 111,
     "metadata": {},
     "output_type": "execute_result"
    }
   ],
   "source": [
    "test_data = sc.parallelize([(np.array([i]), i) for i in range(1, 3)])\n",
    "test_data.take(4)"
   ]
  },
  {
   "cell_type": "code",
   "execution_count": 112,
   "metadata": {
    "collapsed": false
   },
   "outputs": [
    {
     "data": {
      "text/plain": [
       "[(0, [2, array([[1.5]]), 1.5, 5, array([[5]]), array([[2.75]])])]"
      ]
     },
     "execution_count": 112,
     "metadata": {},
     "output_type": "execute_result"
    }
   ],
   "source": [
    "stat = PenalizedLR_MR(test_data, 1, [1])\n",
    "stat.collect()"
   ]
  },
  {
   "cell_type": "code",
   "execution_count": 124,
   "metadata": {
    "collapsed": false
   },
   "outputs": [
    {
     "data": {
      "text/plain": [
       "array(0.25)"
      ]
     },
     "execution_count": 124,
     "metadata": {},
     "output_type": "execute_result"
    }
   ],
   "source": [
    "np.cov(np.arange(1,3), bias=True)"
   ]
  }
 ],
 "metadata": {
  "kernelspec": {
   "display_name": "Python 3",
   "language": "python",
   "name": "python3"
  },
  "language_info": {
   "codemirror_mode": {
    "name": "ipython",
    "version": 3
   },
   "file_extension": ".py",
   "mimetype": "text/x-python",
   "name": "python",
   "nbconvert_exporter": "python",
   "pygments_lexer": "ipython3",
   "version": "3.5.2"
  }
 },
 "nbformat": 4,
 "nbformat_minor": 1
}
